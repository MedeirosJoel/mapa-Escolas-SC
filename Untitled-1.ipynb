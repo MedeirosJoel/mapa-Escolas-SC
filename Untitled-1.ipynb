{
 "cells": [
  {
   "cell_type": "code",
   "execution_count": 156,
   "metadata": {},
   "outputs": [],
   "source": [
    "import pandas as pd\n",
    "from geopy.geocoders import Nominatim\n",
    "\n",
    "unnamed_colluns = ['Unnamed: 11', 'Unnamed: 12','Unnamed: 13','Unnamed: 14', 'Unnamed: 15']\n",
    "depencia = ['estaduais', 'federais', 'municipais', 'privadas']\n",
    "\n",
    "rename_colluns = {\n",
    "    'Nº': 'num',\n",
    "    'município': 'municipio',\n",
    "    'Endereço': 'endereco'}\n"
   ]
  },
  {
   "cell_type": "code",
   "execution_count": 165,
   "metadata": {},
   "outputs": [],
   "source": [
    "def geolocator(endereco_completo):\n",
    "    geolocator = Nominatim(user_agent=\"geolocalização\")\n",
    "    location = geolocator.geocode(endereco_completo)\n",
    "    print((location.latitude, location.longitude))"
   ]
  },
  {
   "cell_type": "code",
   "execution_count": 164,
   "metadata": {},
   "outputs": [
    {
     "data": {
      "text/plain": [
       "cód.                   int64\n",
       "Escola                object\n",
       "endereco              object\n",
       "num                   object\n",
       "bairro                object\n",
       "municipio             object\n",
       "DDD                  float64\n",
       "Telefone              object\n",
       "CEP                   object\n",
       "E-mail                object\n",
       "Dependência           object\n",
       "endereco_completo     object\n",
       "dtype: object"
      ]
     },
     "execution_count": 164,
     "metadata": {},
     "output_type": "execute_result"
    }
   ],
   "source": [
    "tabelas = {}\n",
    "\n",
    "for nome in depencia:\n",
    "    tabelas['df_', nome] = pd.read_excel(f'raw_xlsx/{nome}.xlsx', header=4)\n",
    "\n",
    "df = pd.concat(tabelas, ignore_index=True)\n",
    "df = df.drop(unnamed_colluns, axis=1)\n",
    "df = df. rename(rename_colluns, axis=1)\n",
    "df['num'] = df['num'].astype('str')\n",
    "df['CEP'] = df['CEP'].astype('str') \n",
    "\n",
    "df['endereco_completo'] = df['endereco'] + ', ' + df['num'] + ' - ' + df['bairro'] + ', ' + df['municipio']+ ' - SC, '+ df['CEP']\n",
    "df['coordenadas'] = geolocator.geocode(str(df['endereco_completo']))"
   ]
  }
 ],
 "metadata": {
  "kernelspec": {
   "display_name": "Python 3.10.6 ('.venv': venv)",
   "language": "python",
   "name": "python3"
  },
  "language_info": {
   "codemirror_mode": {
    "name": "ipython",
    "version": 3
   },
   "file_extension": ".py",
   "mimetype": "text/x-python",
   "name": "python",
   "nbconvert_exporter": "python",
   "pygments_lexer": "ipython3",
   "version": "3.10.6"
  },
  "orig_nbformat": 4,
  "vscode": {
   "interpreter": {
    "hash": "525f9c524f59b1a4f53a96086513577569fefb04d5d166f8f05447dc86245584"
   }
  }
 },
 "nbformat": 4,
 "nbformat_minor": 2
}
