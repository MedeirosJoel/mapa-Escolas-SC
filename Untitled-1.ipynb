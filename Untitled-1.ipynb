{
 "cells": [
  {
   "cell_type": "code",
   "execution_count": 3,
   "metadata": {},
   "outputs": [],
   "source": [
    "import pandas as pd\n",
    "import geopandas\n",
    "import requests\n",
    "from requests.structures import CaseInsensitiveDict\n",
    "import json\n",
    "from myConfig import KEY\n",
    "\n",
    "unnamed_colluns = ['Unnamed: 11', 'Unnamed: 12','Unnamed: 13','Unnamed: 14', 'Unnamed: 15']\n",
    "depencia = ['estaduais', 'federais', 'municipais', 'privadas']\n",
    "\n",
    "rename_colluns = {\n",
    "    'Nº': 'num',\n",
    "    'município': 'municipio',\n",
    "    'Endereço': 'endereco'}\n"
   ]
  },
  {
   "cell_type": "code",
   "execution_count": 4,
   "metadata": {},
   "outputs": [],
   "source": [
    "tabelas = {}\n",
    "\n",
    "for nome in depencia:\n",
    "    tabelas['df_', nome] = pd.read_excel(f'raw_xlsx/{nome}.xlsx', header=4)\n",
    "\n",
    "df = pd.concat(tabelas, ignore_index=True)\n",
    "df = df.drop(unnamed_colluns, axis=1)\n",
    "df = df. rename(rename_colluns, axis=1)\n",
    "df['num'] = df['num'].astype('str')\n",
    "df['CEP'] = df['CEP'].astype('str') \n",
    "df['municipio'] = df['municipio'].str.strip()\n",
    "\n",
    "df['endereco_completo'] = df['endereco'] + ', ' \\\n",
    "                        + df['num'] + ' - ' \\\n",
    "                        + df['bairro'] + ', ' \\\n",
    "                        + df['municipio'] + \\\n",
    "                        ' - SC, '+ df['CEP']\n"
   ]
  },
  {
   "cell_type": "code",
   "execution_count": 5,
   "metadata": {},
   "outputs": [],
   "source": [
    "def get_cordinates(endereco:str):\n",
    "    url = f'http://www.mapquestapi.com/geocoding/v1/address?key={KEY}&location={endereco}&maxResults=1'\n",
    "    payload={}\n",
    "    headers = {}\n",
    "\n",
    "    response = requests.request(\"POST\", url, headers=headers, data=payload)\n",
    "\n",
    "    print(response.status_code, end=' | ')\n",
    "    \n",
    "    try:\n",
    "        jsonresp = response.json()\n",
    "        latlong = jsonresp['results'][0]['locations'][0]['latLng']\n",
    "        return latlong['lat'], latlong['lng'] \n",
    "    except:\n",
    "        return None\n"
   ]
  },
  {
   "cell_type": "code",
   "execution_count": 6,
   "metadata": {},
   "outputs": [],
   "source": [
    "#df['cordenadas']= df['endereco_completo'].apply(get_cordinates)\n"
   ]
  },
  {
   "cell_type": "code",
   "execution_count": 9,
   "metadata": {},
   "outputs": [
    {
     "name": "stdout",
     "output_type": "stream",
     "text": [
      "200 | 200 | 200 | 200 | 200 | "
     ]
    },
    {
     "name": "stderr",
     "output_type": "stream",
     "text": [
      "/tmp/ipykernel_9655/592561638.py:2: SettingWithCopyWarning: \n",
      "A value is trying to be set on a copy of a slice from a DataFrame.\n",
      "Try using .loc[row_indexer,col_indexer] = value instead\n",
      "\n",
      "See the caveats in the documentation: https://pandas.pydata.org/pandas-docs/stable/user_guide/indexing.html#returning-a-view-versus-a-copy\n",
      "  dft['cordenadas']= dft['endereco_completo'].apply(get_cordinates)\n"
     ]
    }
   ],
   "source": [
    "dft = df[:5]\n",
    "dft['cordenadas']= dft['endereco_completo'].apply(get_cordinates)"
   ]
  },
  {
   "cell_type": "code",
   "execution_count": 11,
   "metadata": {},
   "outputs": [
    {
     "name": "stderr",
     "output_type": "stream",
     "text": [
      "/tmp/ipykernel_9655/2387218524.py:1: SettingWithCopyWarning: \n",
      "A value is trying to be set on a copy of a slice from a DataFrame.\n",
      "Try using .loc[row_indexer,col_indexer] = value instead\n",
      "\n",
      "See the caveats in the documentation: https://pandas.pydata.org/pandas-docs/stable/user_guide/indexing.html#returning-a-view-versus-a-copy\n",
      "  dft[['latitude','longitude']] = pd.DataFrame(dft['cordenadas'].tolist(), index=dft.index)\n"
     ]
    }
   ],
   "source": [
    "dft[['latitude','longitude']] = pd.DataFrame(dft['cordenadas'].tolist(), index=dft.index)\n",
    "gdf = geopandas.GeoDataFrame(dft, geometry=geopandas.points_from_xy(dft.longitude, dft.latitude))\n",
    "gdf.to_pickle('geoDataframe.pkl')"
   ]
  },
  {
   "cell_type": "code",
   "execution_count": 13,
   "metadata": {},
   "outputs": [
    {
     "data": {
      "text/plain": [
       "'AVENIDA UNIVERSITARIA, 345 - UNIVERSITARIO, CRICIÚMA - SC, 88806000'"
      ]
     },
     "execution_count": 13,
     "metadata": {},
     "output_type": "execute_result"
    }
   ],
   "source": [
    "gdf['endereco_completo'][0]"
   ]
  },
  {
   "cell_type": "code",
   "execution_count": null,
   "metadata": {},
   "outputs": [],
   "source": []
  }
 ],
 "metadata": {
  "kernelspec": {
   "display_name": "Python 3.10.6 ('.venv': venv)",
   "language": "python",
   "name": "python3"
  },
  "language_info": {
   "codemirror_mode": {
    "name": "ipython",
    "version": 3
   },
   "file_extension": ".py",
   "mimetype": "text/x-python",
   "name": "python",
   "nbconvert_exporter": "python",
   "pygments_lexer": "ipython3",
   "version": "3.10.6"
  },
  "orig_nbformat": 4,
  "vscode": {
   "interpreter": {
    "hash": "525f9c524f59b1a4f53a96086513577569fefb04d5d166f8f05447dc86245584"
   }
  }
 },
 "nbformat": 4,
 "nbformat_minor": 2
}
