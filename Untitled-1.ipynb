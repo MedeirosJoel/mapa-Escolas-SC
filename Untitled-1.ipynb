{
 "cells": [
  {
   "cell_type": "code",
   "execution_count": 2,
   "metadata": {},
   "outputs": [],
   "source": [
    "import pandas as pd\n",
    "import geopandas\n",
    "import requests\n",
    "from requests.structures import CaseInsensitiveDict\n",
    "import json\n",
    "from myConfig import KEY\n",
    "\n",
    "unnamed_colluns = ['Unnamed: 11', 'Unnamed: 12','Unnamed: 13','Unnamed: 14', 'Unnamed: 15']\n",
    "depencia = ['estaduais', 'federais', 'municipais', 'privadas']\n",
    "\n",
    "rename_colluns = {\n",
    "    'Nº': 'num',\n",
    "    'município': 'municipio',\n",
    "    'Endereço': 'endereco'}\n"
   ]
  },
  {
   "cell_type": "code",
   "execution_count": 3,
   "metadata": {},
   "outputs": [],
   "source": [
    "tabelas = {}\n",
    "\n",
    "for nome in depencia:\n",
    "    tabelas['df_', nome] = pd.read_excel(f'raw_xlsx/{nome}.xlsx', header=4)\n",
    "\n",
    "df = pd.concat(tabelas, ignore_index=True)\n",
    "df = df.drop(unnamed_colluns, axis=1)\n",
    "df = df. rename(rename_colluns, axis=1)\n",
    "df['num'] = df['num'].astype('str')\n",
    "df['CEP'] = df['CEP'].astype('str') \n",
    "df['municipio'] = df['municipio'].str.strip()\n",
    "\n",
    "df['endereco_completo'] = df['endereco'] + ', ' \\\n",
    "                        + df['num'] + ' - ' \\\n",
    "                        + df['bairro'] + ', ' \\\n",
    "                        + df['municipio'] + \\\n",
    "                        ' - SC, '+ df['CEP']\n"
   ]
  },
  {
   "cell_type": "code",
   "execution_count": 4,
   "metadata": {},
   "outputs": [],
   "source": [
    "def get_cordinates(endereco:str):\n",
    "    url = f'http://www.mapquestapi.com/geocoding/v1/address?key={KEY}&location={endereco}&maxResults=1'\n",
    "    payload={}\n",
    "    headers = {}\n",
    "\n",
    "    response = requests.request(\"POST\", url, headers=headers, data=payload)\n",
    "\n",
    "    print(response.status_code, end=' | ')\n",
    "    \n",
    "    try:\n",
    "        jsonresp = response.json()\n",
    "        latlong = jsonresp['results'][0]['locations'][0]['latLng']\n",
    "        return latlong['lat'], latlong['lng'] \n",
    "    except:\n",
    "        return None\n"
   ]
  },
  {
   "cell_type": "code",
   "execution_count": 5,
   "metadata": {},
   "outputs": [
    {
     "name": "stdout",
     "output_type": "stream",
     "text": [
      "200 | 200 | 200 | 200 | 200 | "
     ]
    },
    {
     "name": "stderr",
     "output_type": "stream",
     "text": [
      "/tmp/ipykernel_70603/592561638.py:2: SettingWithCopyWarning: \n",
      "A value is trying to be set on a copy of a slice from a DataFrame.\n",
      "Try using .loc[row_indexer,col_indexer] = value instead\n",
      "\n",
      "See the caveats in the documentation: https://pandas.pydata.org/pandas-docs/stable/user_guide/indexing.html#returning-a-view-versus-a-copy\n",
      "  dft['cordenadas']= dft['endereco_completo'].apply(get_cordinates)\n"
     ]
    }
   ],
   "source": [
    "dft = df[:5]\n",
    "dft['cordenadas']= dft['endereco_completo'].apply(get_cordinates)"
   ]
  },
  {
   "cell_type": "code",
   "execution_count": 6,
   "metadata": {},
   "outputs": [
    {
     "name": "stderr",
     "output_type": "stream",
     "text": [
      "/tmp/ipykernel_70603/2342942002.py:1: SettingWithCopyWarning: \n",
      "A value is trying to be set on a copy of a slice from a DataFrame.\n",
      "Try using .loc[row_indexer,col_indexer] = value instead\n",
      "\n",
      "See the caveats in the documentation: https://pandas.pydata.org/pandas-docs/stable/user_guide/indexing.html#returning-a-view-versus-a-copy\n",
      "  dft[['latitude','longitude']] = pd.DataFrame(dft['cordenadas'].tolist(), index=dft.index)\n",
      "/tmp/ipykernel_70603/2342942002.py:1: SettingWithCopyWarning: \n",
      "A value is trying to be set on a copy of a slice from a DataFrame.\n",
      "Try using .loc[row_indexer,col_indexer] = value instead\n",
      "\n",
      "See the caveats in the documentation: https://pandas.pydata.org/pandas-docs/stable/user_guide/indexing.html#returning-a-view-versus-a-copy\n",
      "  dft[['latitude','longitude']] = pd.DataFrame(dft['cordenadas'].tolist(), index=dft.index)\n"
     ]
    }
   ],
   "source": [
    "dft[['latitude','longitude']] = pd.DataFrame(dft['cordenadas'].tolist(), index=dft.index)\n",
    "gdf = geopandas.GeoDataFrame(dft, geometry=geopandas.points_from_xy(dft.longitude, dft.latitude))"
   ]
  },
  {
   "cell_type": "code",
   "execution_count": 7,
   "metadata": {},
   "outputs": [
    {
     "name": "stdout",
     "output_type": "stream",
     "text": [
      "AVENIDA UNIVERSITARIA, 345 - UNIVERSITARIO, CRICIÚMA - SC, 88806000\n",
      "BR 282 KM 246, 0 - ITARARE, SÃO JOSÉ DO CERRITO - SC, 88570000\n",
      "FAZENDA PRIMAVERA SC 160 KM 07, 0 - INTERIOR, CAMPO ERÊ - SC, 89980000\n",
      "R MONSENHOR GERCINO, 2071 - ITAUM, JOINVILLE - SC, 89210155\n",
      "R ASSIS BRASIL, 119 - MARIA GORETTI, CHAPECÓ - SC, 89801222\n"
     ]
    }
   ],
   "source": [
    "enderecos = gdf['endereco_completo']\n",
    "for item in enderecos:\n",
    "    print(item)"
   ]
  },
  {
   "cell_type": "code",
   "execution_count": 23,
   "metadata": {},
   "outputs": [
    {
     "data": {
      "text/plain": [
       "pandas.core.frame.DataFrame"
      ]
     },
     "execution_count": 23,
     "metadata": {},
     "output_type": "execute_result"
    }
   ],
   "source": [
    "type(dft)"
   ]
  },
  {
   "cell_type": "code",
   "execution_count": 25,
   "metadata": {},
   "outputs": [
    {
     "data": {
      "text/html": [
       "<div>\n",
       "<style scoped>\n",
       "    .dataframe tbody tr th:only-of-type {\n",
       "        vertical-align: middle;\n",
       "    }\n",
       "\n",
       "    .dataframe tbody tr th {\n",
       "        vertical-align: top;\n",
       "    }\n",
       "\n",
       "    .dataframe thead th {\n",
       "        text-align: right;\n",
       "    }\n",
       "</style>\n",
       "<table border=\"1\" class=\"dataframe\">\n",
       "  <thead>\n",
       "    <tr style=\"text-align: right;\">\n",
       "      <th></th>\n",
       "      <th>cód.</th>\n",
       "      <th>Escola</th>\n",
       "      <th>endereco</th>\n",
       "      <th>num</th>\n",
       "      <th>bairro</th>\n",
       "      <th>municipio</th>\n",
       "      <th>DDD</th>\n",
       "      <th>Telefone</th>\n",
       "      <th>CEP</th>\n",
       "      <th>E-mail</th>\n",
       "      <th>Dependência</th>\n",
       "      <th>endereco_completo</th>\n",
       "      <th>cordenadas</th>\n",
       "      <th>latitude</th>\n",
       "      <th>longitude</th>\n",
       "      <th>geometry</th>\n",
       "    </tr>\n",
       "  </thead>\n",
       "  <tbody>\n",
       "    <tr>\n",
       "      <th>0</th>\n",
       "      <td>12203</td>\n",
       "      <td>CEDUP ABILIO PAULO</td>\n",
       "      <td>AVENIDA UNIVERSITARIA</td>\n",
       "      <td>345</td>\n",
       "      <td>UNIVERSITARIO</td>\n",
       "      <td>CRICIÚMA</td>\n",
       "      <td>48.0</td>\n",
       "      <td>34031609</td>\n",
       "      <td>88806000</td>\n",
       "      <td>cedupcriciuma@sed.sc.gov.br</td>\n",
       "      <td>Estaduais</td>\n",
       "      <td>AVENIDA UNIVERSITARIA, 345 - UNIVERSITARIO, CR...</td>\n",
       "      <td>(-28.70101, -49.41133)</td>\n",
       "      <td>-28.70101</td>\n",
       "      <td>-49.41133</td>\n",
       "      <td>POINT (-49.41133 -28.70101)</td>\n",
       "    </tr>\n",
       "    <tr>\n",
       "      <th>1</th>\n",
       "      <td>32131</td>\n",
       "      <td>CEDUP CAETANO COSTA</td>\n",
       "      <td>BR 282 KM 246</td>\n",
       "      <td>0</td>\n",
       "      <td>ITARARE</td>\n",
       "      <td>SÃO JOSÉ DO CERRITO</td>\n",
       "      <td>49.0</td>\n",
       "      <td>88081661</td>\n",
       "      <td>88570000</td>\n",
       "      <td>seriedh27cedupccosta@sed.sc.gov.br</td>\n",
       "      <td>Estaduais</td>\n",
       "      <td>BR 282 KM 246, 0 - ITARARE, SÃO JOSÉ DO CERRIT...</td>\n",
       "      <td>(-27.62472, -50.65612)</td>\n",
       "      <td>-27.62472</td>\n",
       "      <td>-50.65612</td>\n",
       "      <td>POINT (-50.65612 -27.62472)</td>\n",
       "    </tr>\n",
       "    <tr>\n",
       "      <th>2</th>\n",
       "      <td>103225</td>\n",
       "      <td>CEDUP CAMPO ERE</td>\n",
       "      <td>FAZENDA PRIMAVERA SC 160 KM 07</td>\n",
       "      <td>0</td>\n",
       "      <td>INTERIOR</td>\n",
       "      <td>CAMPO ERÊ</td>\n",
       "      <td>49.0</td>\n",
       "      <td>36551268</td>\n",
       "      <td>89980000</td>\n",
       "      <td>cedupcampoere@sed.sc.gov.br</td>\n",
       "      <td>Estaduais</td>\n",
       "      <td>FAZENDA PRIMAVERA SC 160 KM 07, 0 - INTERIOR, ...</td>\n",
       "      <td>(-26.47316, -53.07205)</td>\n",
       "      <td>-26.47316</td>\n",
       "      <td>-53.07205</td>\n",
       "      <td>POINT (-53.07205 -26.47316)</td>\n",
       "    </tr>\n",
       "    <tr>\n",
       "      <th>3</th>\n",
       "      <td>20508</td>\n",
       "      <td>CEDUP DARIO GERALDO SALLES</td>\n",
       "      <td>R MONSENHOR GERCINO</td>\n",
       "      <td>2071</td>\n",
       "      <td>ITAUM</td>\n",
       "      <td>JOINVILLE</td>\n",
       "      <td>47.0</td>\n",
       "      <td>34812135</td>\n",
       "      <td>89210155</td>\n",
       "      <td>diretor20508@sed.sc.gov.br</td>\n",
       "      <td>Estaduais</td>\n",
       "      <td>R MONSENHOR GERCINO, 2071 - ITAUM, JOINVILLE -...</td>\n",
       "      <td>(-26.33478, -48.82915)</td>\n",
       "      <td>-26.33478</td>\n",
       "      <td>-48.82915</td>\n",
       "      <td>POINT (-48.82915 -26.33478)</td>\n",
       "    </tr>\n",
       "    <tr>\n",
       "      <th>4</th>\n",
       "      <td>700320</td>\n",
       "      <td>CEDUP DE CHAPECÓ</td>\n",
       "      <td>R ASSIS BRASIL</td>\n",
       "      <td>119</td>\n",
       "      <td>MARIA GORETTI</td>\n",
       "      <td>CHAPECÓ</td>\n",
       "      <td>49.0</td>\n",
       "      <td>33220447</td>\n",
       "      <td>89801222</td>\n",
       "      <td>cedupchapeco@sed.sc.gov.br</td>\n",
       "      <td>Estaduais</td>\n",
       "      <td>R ASSIS BRASIL, 119 - MARIA GORETTI, CHAPECÓ -...</td>\n",
       "      <td>(-27.1038, -52.60496)</td>\n",
       "      <td>-27.10380</td>\n",
       "      <td>-52.60496</td>\n",
       "      <td>POINT (-52.60496 -27.10380)</td>\n",
       "    </tr>\n",
       "  </tbody>\n",
       "</table>\n",
       "</div>"
      ],
      "text/plain": [
       "     cód.                      Escola                        endereco   num  \\\n",
       "0   12203          CEDUP ABILIO PAULO           AVENIDA UNIVERSITARIA   345   \n",
       "1   32131         CEDUP CAETANO COSTA                   BR 282 KM 246     0   \n",
       "2  103225             CEDUP CAMPO ERE  FAZENDA PRIMAVERA SC 160 KM 07     0   \n",
       "3   20508  CEDUP DARIO GERALDO SALLES             R MONSENHOR GERCINO  2071   \n",
       "4  700320            CEDUP DE CHAPECÓ                  R ASSIS BRASIL   119   \n",
       "\n",
       "          bairro            municipio   DDD  Telefone       CEP  \\\n",
       "0  UNIVERSITARIO             CRICIÚMA  48.0  34031609  88806000   \n",
       "1        ITARARE  SÃO JOSÉ DO CERRITO  49.0  88081661  88570000   \n",
       "2       INTERIOR            CAMPO ERÊ  49.0  36551268  89980000   \n",
       "3          ITAUM            JOINVILLE  47.0  34812135  89210155   \n",
       "4  MARIA GORETTI              CHAPECÓ  49.0  33220447  89801222   \n",
       "\n",
       "                               E-mail Dependência  \\\n",
       "0         cedupcriciuma@sed.sc.gov.br   Estaduais   \n",
       "1  seriedh27cedupccosta@sed.sc.gov.br   Estaduais   \n",
       "2         cedupcampoere@sed.sc.gov.br   Estaduais   \n",
       "3          diretor20508@sed.sc.gov.br   Estaduais   \n",
       "4          cedupchapeco@sed.sc.gov.br   Estaduais   \n",
       "\n",
       "                                   endereco_completo              cordenadas  \\\n",
       "0  AVENIDA UNIVERSITARIA, 345 - UNIVERSITARIO, CR...  (-28.70101, -49.41133)   \n",
       "1  BR 282 KM 246, 0 - ITARARE, SÃO JOSÉ DO CERRIT...  (-27.62472, -50.65612)   \n",
       "2  FAZENDA PRIMAVERA SC 160 KM 07, 0 - INTERIOR, ...  (-26.47316, -53.07205)   \n",
       "3  R MONSENHOR GERCINO, 2071 - ITAUM, JOINVILLE -...  (-26.33478, -48.82915)   \n",
       "4  R ASSIS BRASIL, 119 - MARIA GORETTI, CHAPECÓ -...   (-27.1038, -52.60496)   \n",
       "\n",
       "   latitude  longitude                     geometry  \n",
       "0 -28.70101  -49.41133  POINT (-49.41133 -28.70101)  \n",
       "1 -27.62472  -50.65612  POINT (-50.65612 -27.62472)  \n",
       "2 -26.47316  -53.07205  POINT (-53.07205 -26.47316)  \n",
       "3 -26.33478  -48.82915  POINT (-48.82915 -26.33478)  \n",
       "4 -27.10380  -52.60496  POINT (-52.60496 -27.10380)  "
      ]
     },
     "execution_count": 25,
     "metadata": {},
     "output_type": "execute_result"
    }
   ],
   "source": [
    "gdf"
   ]
  },
  {
   "cell_type": "code",
   "execution_count": 26,
   "metadata": {},
   "outputs": [
    {
     "data": {
      "text/plain": [
       "-49.41133"
      ]
     },
     "execution_count": 26,
     "metadata": {},
     "output_type": "execute_result"
    }
   ],
   "source": [
    "gdf['geometry'][0].x # longitude"
   ]
  },
  {
   "cell_type": "code",
   "execution_count": 28,
   "metadata": {},
   "outputs": [
    {
     "data": {
      "text/plain": [
       "-28.70101"
      ]
     },
     "execution_count": 28,
     "metadata": {},
     "output_type": "execute_result"
    }
   ],
   "source": [
    "gdf['geometry'][0].y #latitude"
   ]
  }
 ],
 "metadata": {
  "kernelspec": {
   "display_name": "Python 3.10.6 ('.venv': venv)",
   "language": "python",
   "name": "python3"
  },
  "language_info": {
   "codemirror_mode": {
    "name": "ipython",
    "version": 3
   },
   "file_extension": ".py",
   "mimetype": "text/x-python",
   "name": "python",
   "nbconvert_exporter": "python",
   "pygments_lexer": "ipython3",
   "version": "3.10.6"
  },
  "orig_nbformat": 4,
  "vscode": {
   "interpreter": {
    "hash": "b0845e4818c1527a837ef96db2e3530824796b85a7f8a43c02c6b9cd6880bbd3"
   }
  }
 },
 "nbformat": 4,
 "nbformat_minor": 2
}
